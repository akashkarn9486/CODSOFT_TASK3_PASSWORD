{
 "cells": [
  {
   "cell_type": "code",
   "execution_count": 7,
   "id": "bbe6bfc4-ebee-494e-a5ff-fdd0ac7e075c",
   "metadata": {},
   "outputs": [
    {
     "name": "stdout",
     "output_type": "stream",
     "text": [
      "PASSWORD GENERATOR\n",
      "------------------\n"
     ]
    },
    {
     "name": "stdin",
     "output_type": "stream",
     "text": [
      "Enter the desired password length (minimum 4):  16\n"
     ]
    },
    {
     "name": "stdout",
     "output_type": "stream",
     "text": [
      "\n",
      "Generated Password: =$FgpD])rX8hb=}w\n"
     ]
    }
   ],
   "source": [
    "import random\n",
    "\n",
    "def generate_password(length):\n",
    "    # Define character sets as explicit arrays\n",
    "    lowercase = ['a', 'b', 'c', 'd', 'e', 'f', 'g', 'h', 'i', 'j', 'k', 'l', 'm',\n",
    "                 'n', 'o', 'p', 'q', 'r', 's', 't', 'u', 'v', 'w', 'x', 'y', 'z']\n",
    "    uppercase = ['A', 'B', 'C', 'D', 'E', 'F', 'G', 'H', 'I', 'J', 'K', 'L', 'M',\n",
    "                 'N', 'O', 'P', 'Q', 'R', 'S', 'T', 'U', 'V', 'W', 'X', 'Y', 'Z']\n",
    "    digits = ['0', '1', '2', '3', '4', '5', '6', '7', '8', '9']\n",
    "    symbols = ['!', '@', '#', '$', '%', '^', '&', '*', '(', ')', '-', '_', '=', '+',\n",
    "               '[', ']', '{', '}', ';', ':', ',', '.', '<', '>', '/', '?', '|']\n",
    "    \n",
    "    # Combine all character sets\n",
    "    all_chars = lowercase + uppercase + digits + symbols\n",
    "    \n",
    "    # Ensure the password contains at least one character from each set\n",
    "    password = [\n",
    "        random.choice(lowercase),\n",
    "        random.choice(uppercase),\n",
    "        random.choice(digits),\n",
    "        random.choice(symbols)\n",
    "    ]\n",
    "    \n",
    "    # Fill the rest of the password with random characters\n",
    "    for i in range(length - 4):\n",
    "        password.append(random.choice(all_chars))  # Typo fixed: changed 'all_chars' to 'all_chars'\n",
    "    \n",
    "    # Shuffle the password\n",
    "    random.shuffle(password)\n",
    "    \n",
    "    # Convert to string\n",
    "    return ''.join(password)\n",
    "\n",
    "def main():\n",
    "    print(\"PASSWORD GENERATOR\")\n",
    "    print(\"------------------\")\n",
    "    \n",
    "    try:\n",
    "        length = int(input(\"Enter the desired password length (minimum 4): \"))\n",
    "        \n",
    "        if length < 4:\n",
    "            print(\"Password length must be at least 4 characters.\")\n",
    "            return\n",
    "        \n",
    "        password = generate_password(length)\n",
    "        print(\"\\nGenerated Password:\", password)\n",
    "        \n",
    "    except ValueError:\n",
    "        print(\"Please enter a valid number.\")\n",
    "\n",
    "if __name__ == \"__main__\":  # Corrected: double underscores on both sides\n",
    "    main()"
   ]
  },
  {
   "cell_type": "code",
   "execution_count": null,
   "id": "450c211d-a043-4e70-b717-1b9f8717ed7c",
   "metadata": {},
   "outputs": [],
   "source": []
  }
 ],
 "metadata": {
  "kernelspec": {
   "display_name": "Python [conda env:base] *",
   "language": "python",
   "name": "conda-base-py"
  },
  "language_info": {
   "codemirror_mode": {
    "name": "ipython",
    "version": 3
   },
   "file_extension": ".py",
   "mimetype": "text/x-python",
   "name": "python",
   "nbconvert_exporter": "python",
   "pygments_lexer": "ipython3",
   "version": "3.12.7"
  }
 },
 "nbformat": 4,
 "nbformat_minor": 5
}
